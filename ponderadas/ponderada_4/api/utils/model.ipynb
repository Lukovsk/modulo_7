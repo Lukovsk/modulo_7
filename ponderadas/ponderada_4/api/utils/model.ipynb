{
  "nbformat": 4,
  "nbformat_minor": 0,
  "metadata": {
    "colab": {
      "private_outputs": true,
      "provenance": []
    },
    "kernelspec": {
      "name": "python3",
      "display_name": "Python 3"
    },
    "language_info": {
      "name": "python"
    }
  },
  "cells": [
    {
      "cell_type": "code",
      "execution_count": null,
      "metadata": {
        "id": "5sRPGGCiKbKO"
      },
      "outputs": [],
      "source": [
        "import pandas as pd"
      ]
    },
    {
      "cell_type": "code",
      "source": [
        "import zipfile\n",
        "arq_zip = zipfile.ZipFile('/content/archive.zip')"
      ],
      "metadata": {
        "id": "WwHF5ayYKrwP"
      },
      "execution_count": null,
      "outputs": []
    },
    {
      "cell_type": "code",
      "source": [
        "df = pd.read_csv(arq_zip.open('Mall_Customers.csv'))\n",
        "df"
      ],
      "metadata": {
        "id": "65RBQ3nGKyUh"
      },
      "execution_count": null,
      "outputs": []
    },
    {
      "cell_type": "markdown",
      "source": [
        "# Feature Engeneering"
      ],
      "metadata": {
        "id": "mejqAKonK69T"
      }
    },
    {
      "cell_type": "code",
      "source": [
        "df.columns"
      ],
      "metadata": {
        "id": "KrDZ7zD6jswN"
      },
      "execution_count": null,
      "outputs": []
    },
    {
      "cell_type": "code",
      "source": [
        "df = df.drop(columns='CustomerID')\n",
        "df = df.rename(columns={'Annual Income (k$)': 'Annual_Income'})\n",
        "df = df.rename(columns={'Spending Score (1-100)': 'Spending_Score'})"
      ],
      "metadata": {
        "id": "n3yx1jUYK-zG"
      },
      "execution_count": null,
      "outputs": []
    },
    {
      "cell_type": "code",
      "source": [
        "df.columns"
      ],
      "metadata": {
        "id": "E6ZPfPJuj7xS"
      },
      "execution_count": null,
      "outputs": []
    },
    {
      "cell_type": "code",
      "source": [
        "df.info()"
      ],
      "metadata": {
        "id": "NnGnqkUaLUp8"
      },
      "execution_count": null,
      "outputs": []
    },
    {
      "cell_type": "markdown",
      "source": [
        "## Coluna Gênero (categórica)\n",
        "Como a coluna gênero não é muito importante para o modelo, vamos apenas removê-la."
      ],
      "metadata": {
        "id": "hXV7V1thkMUu"
      }
    },
    {
      "cell_type": "code",
      "source": [
        "df = df.drop(columns='Gender')"
      ],
      "metadata": {
        "id": "T1G-ugMkkQho"
      },
      "execution_count": null,
      "outputs": []
    },
    {
      "cell_type": "markdown",
      "source": [
        "## Normalização\n",
        "Como visto na análise de dados do notebook ```data_analysis.ipnyb```, os dados numéricos são distribuidos de forma não gausseana. Nesse sentido, o método de normalização deve ser aplicada."
      ],
      "metadata": {
        "id": "ipHxXecJK_nL"
      }
    },
    {
      "cell_type": "code",
      "source": [
        "from sklearn.preprocessing import MinMaxScaler\n",
        "scaler = MinMaxScaler()\n",
        "scaler.fit(df)\n",
        "scaler.transform(df)\n",
        "scaled_data = scaler.fit_transform(df)\n",
        "df = pd.DataFrame(scaled_data, columns = df.columns)"
      ],
      "metadata": {
        "id": "-R6YLVR8LLyS"
      },
      "execution_count": null,
      "outputs": []
    },
    {
      "cell_type": "code",
      "source": [
        "df"
      ],
      "metadata": {
        "id": "o2JELhzTNJaX"
      },
      "execution_count": null,
      "outputs": []
    },
    {
      "cell_type": "markdown",
      "source": [
        "# Modelagem"
      ],
      "metadata": {
        "id": "UNpsVDDNNY6m"
      }
    },
    {
      "cell_type": "markdown",
      "source": [
        "## Pycaret"
      ],
      "metadata": {
        "id": "MB_qQWdJNbkg"
      }
    },
    {
      "cell_type": "code",
      "source": [
        "!pip install pycaret[full]"
      ],
      "metadata": {
        "id": "GMDPEgfLNbAo"
      },
      "execution_count": null,
      "outputs": []
    },
    {
      "cell_type": "code",
      "source": [
        "from pycaret.regression import *"
      ],
      "metadata": {
        "id": "JKa9OT9GNptZ"
      },
      "execution_count": null,
      "outputs": []
    },
    {
      "cell_type": "code",
      "source": [
        "s = setup(df, target = 'Spending_Score')"
      ],
      "metadata": {
        "id": "iHWolDheNiTv"
      },
      "execution_count": null,
      "outputs": []
    },
    {
      "cell_type": "markdown",
      "source": [
        "### Comparação entre os modelos"
      ],
      "metadata": {
        "id": "Juh6446ZOMBj"
      }
    },
    {
      "cell_type": "code",
      "source": [
        "best_model = compare_models(n_select=5)"
      ],
      "metadata": {
        "id": "T11KsIOgONfh"
      },
      "execution_count": null,
      "outputs": []
    },
    {
      "cell_type": "markdown",
      "source": [
        "## Análise do Modelo"
      ],
      "metadata": {
        "id": "7R_5lBHtOWed"
      }
    },
    {
      "cell_type": "code",
      "source": [
        "plot_model(best_model[0], plot = 'error')"
      ],
      "metadata": {
        "id": "mKk9T2CjOS3u"
      },
      "execution_count": null,
      "outputs": []
    },
    {
      "cell_type": "code",
      "source": [
        "plot_model(best_model[0], plot = 'feature')"
      ],
      "metadata": {
        "id": "lqQO69UpOanq"
      },
      "execution_count": null,
      "outputs": []
    },
    {
      "cell_type": "code",
      "source": [
        "evaluate_model(best_model[0])"
      ],
      "metadata": {
        "id": "poVnmV_ZOeZf"
      },
      "execution_count": null,
      "outputs": []
    },
    {
      "cell_type": "markdown",
      "source": [
        "## Salvando o modelo"
      ],
      "metadata": {
        "id": "EMLoH5amOjVA"
      }
    },
    {
      "cell_type": "code",
      "source": [
        "save_model(best_model[0], 'model_ada_boost')"
      ],
      "metadata": {
        "id": "afqBhslPOkwL"
      },
      "execution_count": null,
      "outputs": []
    },
    {
      "cell_type": "markdown",
      "source": [
        "## Criando uma API Genérica"
      ],
      "metadata": {
        "id": "exx_d7QZOoA5"
      }
    },
    {
      "cell_type": "code",
      "source": [
        "create_api(best_model[0], 'model_api')"
      ],
      "metadata": {
        "id": "prrKnMeoOpAl"
      },
      "execution_count": null,
      "outputs": []
    },
    {
      "cell_type": "code",
      "source": [
        "create_docker('model_api')"
      ],
      "metadata": {
        "id": "eiRMGOSQPEew"
      },
      "execution_count": null,
      "outputs": []
    }
  ]
}